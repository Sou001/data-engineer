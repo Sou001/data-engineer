{
 "cells": [
  {
   "cell_type": "markdown",
   "metadata": {},
   "source": [
    "# Elastic Stack\n",
    "L'objectif du TP est de continuer à prendre en main la stack Elastic(elasticsearch & Kibana) en mode local avec des requêtes d'agrégation"
   ]
  },
  {
   "cell_type": "markdown",
   "metadata": {},
   "source": [
    "##  1- elasticsearch\n",
    "Utiliser l'environnement déja mis en place lors du TP1 et utilisé lors du TP2\n",
    "\n",
    "Vérifier que l'environnement est bien lancé :\n",
    "\n",
    "* L'url d'elasticsearch:  http://localhost:9200\n",
    "* L'url cerebro:  http://localhost:9000\n",
    "* L'url de Kibana : http://localhost:5601"
   ]
  },
  {
   "cell_type": "markdown",
   "metadata": {},
   "source": [
    "## 2- Aggregations"
   ]
  },
  {
   "cell_type": "markdown",
   "metadata": {},
   "source": [
    "* 1- Ecrire l'aggrégation qui permet de chercher dans l'index, le nombre de films par année."
   ]
  },
  {
   "cell_type": "code",
   "execution_count": null,
   "metadata": {},
   "outputs": [],
   "source": [
    "POST movies/_search\n",
    "{\n",
    "    \"aggs\" : {\n",
    "      \"group_by_year\": {\n",
    "        \"terms\": {\n",
    "          \"field\": \"fields.year\"\n",
    "        }\n",
    "      }\n",
    "    },\n",
    "    \"size\": 0\n",
    "}"
   ]
  },
  {
   "cell_type": "markdown",
   "metadata": {},
   "source": [
    "* 2- Donner la note (rating) moyenne des films."
   ]
  },
  {
   "cell_type": "code",
   "execution_count": null,
   "metadata": {},
   "outputs": [],
   "source": [
    "POST movies/_search\n",
    "{\n",
    "    \"aggs\": {\n",
    "        \"avg_ratings\": {\n",
    "            \"avg\": {\n",
    "                \"field\": \"fields.rating\"\n",
    "            }\n",
    "        }\n",
    "    },\n",
    "    \"size\": 0\n",
    "}"
   ]
  },
  {
   "cell_type": "markdown",
   "metadata": {},
   "source": [
    "* 3- Donner la note (rating) moyenne, et le rang moyen des films de George Lucas."
   ]
  },
  {
   "cell_type": "code",
   "execution_count": null,
   "metadata": {},
   "outputs": [],
   "source": [
    "POST movies/_search\n",
    "{\n",
    "    \"query\": {\n",
    "        \"terms\": {\n",
    "            \"fields.directors.keyword\": [\"George Lucas\"]\n",
    "        }\n",
    "    },\n",
    "    \"aggs\": {\n",
    "        \"directors\": {\n",
    "            \"terms\": {\n",
    "                \"field\": \"fields.directors.keyword\"\n",
    "            },\n",
    "            \"aggs\": {\n",
    "                \"avg_rating\": { \"avg\": { \"field\": \"fields.rating\" } },\n",
    "                \"avg_rank\": { \"avg\": { \"field\": \"fields.rank\" } }\n",
    "            }\n",
    "        }\n",
    "    },\n",
    "    \"size\": 0\n",
    "}"
   ]
  },
  {
   "cell_type": "markdown",
   "metadata": {},
   "source": [
    "* 4- Donnez la note (rating) moyenne des films par année. Attention, il y a ici une imbrication d’agrégats."
   ]
  },
  {
   "cell_type": "code",
   "execution_count": null,
   "metadata": {},
   "outputs": [],
   "source": [
    "#POST movies/_search\n",
    "{\n",
    "    \"aggs\": {\n",
    "      \"rating_films_per_year\": {\n",
    "        \"terms\": { \"field\": \"fields.year\" },\n",
    "        \"aggs\": {\n",
    "          \"avg_rating\": { \"avg\": { \"field\": \"fields.rating\" } } \n",
    "\t\t}\n",
    "      }\n",
    "    },\n",
    "    \"size\": 0\n",
    "}\n"
   ]
  },
  {
   "cell_type": "markdown",
   "metadata": {},
   "source": [
    " * 5- Donner la note (rating) minimum, maximum et moyenne des films par année."
   ]
  },
  {
   "cell_type": "code",
   "execution_count": null,
   "metadata": {},
   "outputs": [],
   "source": [
    "POST movies/_search\n",
    "{\n",
    "    \"aggs\": {\n",
    "      \"rating_films_per_year\": {\n",
    "        \"terms\": { \"field\": \"fields.year\" },\n",
    "        \"aggs\": {\n",
    "          \"avg_rating\": { \"avg\": { \"field\": \"fields.rating\" } } ,\n",
    "          \"min_rating\": { \"min\": { \"field\": \"fields.rating\" } } ,\n",
    "          \"max_rating\": { \"max\": { \"field\": \"fields.rating\" } } \n",
    "\t\t}\n",
    "      }\n",
    "    },\n",
    "    \"size\": 0\n",
    "}\n"
   ]
  },
  {
   "cell_type": "markdown",
   "metadata": {},
   "source": [
    "* 6- Donner le rang (rank) moyen des films par année et trier par ordre décroissant."
   ]
  },
  {
   "cell_type": "code",
   "execution_count": null,
   "metadata": {},
   "outputs": [],
   "source": [
    "POST movies/_search\n",
    "{\n",
    "    \"aggs\": {\n",
    "      \"rating_films_per_year\": {\n",
    "        \"terms\": { \n",
    "          \"field\": \"fields.year\",\n",
    "          \"order\" : { \"avg_rank\" : \"desc\" } \n",
    "        },\n",
    "        \"aggs\": {\n",
    "          \"avg_rank\": { \"avg\": { \"field\": \"fields.rank\" } } \n",
    "\t\t}\n",
    "      }\n",
    "    },\n",
    "    \"size\": 0\n",
    "}\n"
   ]
  },
  {
   "cell_type": "markdown",
   "metadata": {},
   "source": [
    "* 7- Compter le nombre de films par tranche de note (0-1.9, 2-3.9, 4-5.9...). \n",
    "\n",
    "Indication : group_range.\n"
   ]
  },
  {
   "cell_type": "code",
   "execution_count": null,
   "metadata": {},
   "outputs": [],
   "source": [
    "# version élborée\n",
    "POST movies/_search\n",
    "{\n",
    "  \"size\": 0,\n",
    "  \"aggs\": {\n",
    "    \"rating_ranges\": {\n",
    "      \"range\": {\n",
    "        \"field\": \"fields.rating\", \n",
    "        \"script\": {\n",
    "          \"lang\": \"painless\",\n",
    "          \"source\": \"Math.round(_value*100)/100.0\"\n",
    "        },\n",
    "        \"ranges\": [\n",
    "          { \"from\": 0.0, \"to\": 1.9 },\n",
    "          { \"from\": 2, \"to\": 3.9 },\n",
    "          { \"from\": 4, \"to\": 4.9 },\n",
    "          { \"from\": 5, \"to\": 6.9 },\n",
    "          { \"from\": 7, \"to\": 8.9 },\n",
    "          { \"from\": 9 }\n",
    "        ]\n",
    "      }\n",
    "    }\n",
    "  }\n",
    "}\n",
    "\n",
    "## version approx avec histo\n",
    "POST movies/_search\n",
    "{\n",
    "    \"aggs\" : {\n",
    "        \"ratings_per_interval\": {\n",
    "            \"histogram\": {\n",
    "                \"field\": \"fields.rating\",\n",
    "                \"interval\": 1.9\n",
    "            }\n",
    "        }\n",
    "    },\n",
    "    \"size\": 0\n",
    "}"
   ]
  },
  {
   "cell_type": "markdown",
   "metadata": {},
   "source": [
    " * 8- grouper par “genre” de film, et donner leurs occurrences :\n",
    " \n",
    "indication : un mapping des propriétes peut être nécessaire..\n",
    " "
   ]
  },
  {
   "cell_type": "code",
   "execution_count": null,
   "metadata": {},
   "outputs": [],
   "source": [
    "POST movies/_search\n",
    "{\n",
    "    \"aggs\" : {\n",
    "      \"group_by_genre\": {\n",
    "        \"terms\": {\n",
    "          \"field\": \"fields.genres.keyword\"\n",
    "        }\n",
    "      }\n",
    "    },\n",
    "    \"size\": 0\n",
    "}"
   ]
  },
  {
   "cell_type": "markdown",
   "metadata": {},
   "source": [
    "### Bonus\n",
    "\n",
    "   * Donner le nombre d’occurrences de chaque réalisateur ou réalisatrice."
   ]
  },
  {
   "cell_type": "code",
   "execution_count": null,
   "metadata": {},
   "outputs": [],
   "source": [
    "POST movies/_search\n",
    "{\n",
    "    \"aggs\" : {\n",
    "      \"group_by_genre\": {\n",
    "        \"terms\": {\n",
    "          \"field\": \"fields.directors.keyword\"\n",
    "        }\n",
    "      }\n",
    "    },\n",
    "    \"size\": 0\n",
    "}"
   ]
  },
  {
   "cell_type": "markdown",
   "metadata": {},
   "source": [
    "   * Donner la note (rating) moyenne, le rang min et max, des films par acteur. "
   ]
  },
  {
   "cell_type": "code",
   "execution_count": null,
   "metadata": {},
   "outputs": [],
   "source": [
    "\n",
    "POST movies/_search\n",
    "{\n",
    "    \"aggs\": {\n",
    "      \"rating_films_per_year\": {\n",
    "        \"terms\": { \"field\": \"fields.actors.keyword\" },\n",
    "        \"aggs\": {\n",
    "          \"avg_rating\": { \"avg\": { \"field\": \"fields.rating\" } } ,\n",
    "          \"min_rank\": { \"min\": { \"field\": \"fields.rank\" } } ,\n",
    "          \"max_rank\": { \"max\": { \"field\": \"fields.rank\" } } \n",
    "\t\t}\n",
    "      }\n",
    "    },\n",
    "    \"size\": 0\n",
    "}\n"
   ]
  },
  {
   "cell_type": "markdown",
   "metadata": {},
   "source": [
    "   * Nombre de réalisateurs distincts pour les films d’aventure."
   ]
  },
  {
   "cell_type": "code",
   "execution_count": null,
   "metadata": {},
   "outputs": [],
   "source": [
    "POST movies/_search\n",
    "{\n",
    "\t\"query\":{ \"match_phrase\":{\"fields.genres\":\"adventure\"} },\n",
    "\t\"aggs\" : {\n",
    "\t\t\"actors_uniq_count\" : {\n",
    "\t\t  \"value_count\": { \"field\" : \"fields.actors.keyword\" }\n",
    "\t\t}\n",
    "\t},\n",
    "\t  \"size\": 0\n",
    "}"
   ]
  },
  {
   "cell_type": "markdown",
   "metadata": {},
   "source": [
    "   * Termes les plus utilisés (agrégat : significant_terms) dans les descriptions des films de George Lucas."
   ]
  },
  {
   "cell_type": "code",
   "execution_count": null,
   "metadata": {},
   "outputs": [],
   "source": []
  },
  {
   "cell_type": "markdown",
   "metadata": {},
   "source": [
    "* Donner la note moyenne par genre,"
   ]
  },
  {
   "cell_type": "code",
   "execution_count": null,
   "metadata": {},
   "outputs": [],
   "source": [
    "POST movies/_search\n",
    "{\n",
    "    \"aggs\": {\n",
    "      \"avg_rating_per_year\": {\n",
    "        \"terms\": { \"field\": \"fields.genres.keyword\" ,\"size\":100},\n",
    "        \"aggs\": {\n",
    "          \"avg_rating\": { \"avg\": { \"field\": \"fields.rating\" } }\n",
    "\t\t}\n",
    "      }\n",
    "    },\n",
    "    \"size\": 0\n",
    "}"
   ]
  },
  {
   "cell_type": "markdown",
   "metadata": {},
   "source": [
    "* Donner une note minimale, maximale et moyenne pour chaque genre,"
   ]
  },
  {
   "cell_type": "code",
   "execution_count": null,
   "metadata": {},
   "outputs": [],
   "source": [
    "POST movies/_search\n",
    "{\n",
    "    \"aggs\": {\n",
    "      \"rating_films_per_year\": {\n",
    "        \"terms\": { \"field\": \"fields.genres.keyword\" ,\"size\":1000},\n",
    "        \"aggs\": {\n",
    "          \"avg_rating\": { \"avg\": { \"field\": \"fields.rating\" } } ,\n",
    "          \"min_rating\": { \"min\": { \"field\": \"fields.rating\" } } ,\n",
    "          \"max_rating\": { \"max\": { \"field\": \"fields.rating\" } } \n",
    "\t\t}\n",
    "      }\n",
    "    },\n",
    "    \"size\": 0\n",
    "}"
   ]
  },
  {
   "cell_type": "markdown",
   "metadata": {},
   "source": [
    "* Donner le classement moyen des films par an et les trier par ordre ascendant,"
   ]
  },
  {
   "cell_type": "code",
   "execution_count": null,
   "metadata": {},
   "outputs": [],
   "source": [
    "POST movies/_search\n",
    "{\n",
    "    \"aggs\": {\n",
    "      \"rating_films_per_year\": {\n",
    "        \"terms\": { \n",
    "          \"field\": \"fields.year\",\n",
    "          \"size\":1000,\n",
    "          \"order\" : { \"avg_rank\" : \"asc\" } \n",
    "        },\n",
    "        \"aggs\": {\n",
    "          \"avg_rank\": { \"avg\": { \"field\": \"fields.rank\" } } \n",
    "\t\t}\n",
    "      }\n",
    "    },\n",
    "    \"size\": 0\n",
    "}"
   ]
  },
  {
   "cell_type": "markdown",
   "metadata": {},
   "source": [
    "* Donner le rang moyen du film et la note moyenne du film pour chaque réalisateur. Trier le résultat de manière décroissante en moyenne de rating"
   ]
  },
  {
   "cell_type": "code",
   "execution_count": null,
   "metadata": {},
   "outputs": [],
   "source": [
    "POST movies/_search\n",
    "{\n",
    "    \"aggs\": {\n",
    "      \"rating_films_per_year\": {\n",
    "        \"terms\": { \n",
    "          \"field\": \"fields.directors.keyword\",\n",
    "          \"size\":1000,\n",
    "          \"order\" : { \"avg_ranting\" : \"desc\" } \n",
    "        },\n",
    "        \"aggs\": {\n",
    "          \"avg_rank\": { \"avg\": { \"field\": \"fields.rank\" } } ,\n",
    "          \"avg_ranting\": { \"avg\": { \"field\": \"fields.rating\" } } \n",
    "\t\t}\n",
    "      }\n",
    "    },\n",
    "    \"size\": 0\n",
    "}"
   ]
  },
  {
   "cell_type": "markdown",
   "metadata": {},
   "source": [
    "* Donner les termes occurrences extraites du titre de chaque film. "
   ]
  },
  {
   "cell_type": "markdown",
   "metadata": {},
   "source": []
  },
  {
   "cell_type": "markdown",
   "metadata": {},
   "source": [
    "# 3- Visualiser les résultats avec Kibana\n",
    "\n",
    "lancer kibana : https://www.elastic.co/fr/downloads/kibana\n",
    "\n",
    "Vérifier que c'est bien démarré via l'URL:  http://localhost:5601\n",
    "\n",
    "RQ: Analyser les diff paramètres dans le fichier de conf: config/kibana.yml\n",
    "\n",
    "Charger votre index movies dans Elasticsearch et contruire un Dashboard avec 3 Graphes pertinents de votre choix"
   ]
  },
  {
   "cell_type": "markdown",
   "metadata": {},
   "source": [
    "# Ressources utiles:\n",
    "\n",
    "voir https://www.elastic.co/guide/en/elasticsearch/reference/current/search-aggregations.html\n",
    "https://www.elastic.co/guide/en/elasticsearch/reference/current/indices-put-mapping.html\n",
    "\n"
   ]
  }
 ],
 "metadata": {
  "kernelspec": {
   "display_name": "Python 3 (ipykernel)",
   "language": "python",
   "name": "python3"
  },
  "language_info": {
   "codemirror_mode": {
    "name": "ipython",
    "version": 3
   },
   "file_extension": ".py",
   "mimetype": "text/x-python",
   "name": "python",
   "nbconvert_exporter": "python",
   "pygments_lexer": "ipython3",
   "version": "3.9.12"
  },
  "toc": {
   "base_numbering": 1,
   "nav_menu": {},
   "number_sections": true,
   "sideBar": true,
   "skip_h1_title": true,
   "title_cell": "Table of Contents",
   "title_sidebar": "Contents",
   "toc_cell": false,
   "toc_position": {},
   "toc_section_display": true,
   "toc_window_display": true
  }
 },
 "nbformat": 4,
 "nbformat_minor": 2
}
